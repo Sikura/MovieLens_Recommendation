{
 "cells": [
  {
   "cell_type": "markdown",
   "metadata": {
    "colab_type": "text",
    "id": "j_1PIwZA7pDv"
   },
   "source": [
    "# Movie Recommendations using MovieLens Dataset"
   ]
  },
  {
   "cell_type": "markdown",
   "metadata": {
    "colab_type": "text",
    "id": "yZtD3qtL7573"
   },
   "source": [
    "## Loading the Datasets"
   ]
  },
  {
   "cell_type": "code",
   "execution_count": 1,
   "metadata": {
    "colab": {},
    "colab_type": "code",
    "id": "jXvjjBA0enUB"
   },
   "outputs": [],
   "source": [
    "import numpy as np\n",
    "import pandas as pd\n",
    "\n",
    "df_movies = pd.read_csv('https://raw.githubusercontent.com/warriorkitty/orientlens/master/movielens/movies.csv')\n",
    "df_ratings = pd.read_csv('https://raw.githubusercontent.com/warriorkitty/orientlens/master/movielens/ratings.csv')"
   ]
  },
  {
   "cell_type": "code",
   "execution_count": 2,
   "metadata": {
    "colab": {
     "base_uri": "https://localhost:8080/",
     "height": 204
    },
    "colab_type": "code",
    "id": "V3r1O_oHfqdM",
    "outputId": "41979910-8e47-40c0-fdfa-acfdff20ba1c"
   },
   "outputs": [
    {
     "data": {
      "text/html": [
       "<div>\n",
       "<style scoped>\n",
       "    .dataframe tbody tr th:only-of-type {\n",
       "        vertical-align: middle;\n",
       "    }\n",
       "\n",
       "    .dataframe tbody tr th {\n",
       "        vertical-align: top;\n",
       "    }\n",
       "\n",
       "    .dataframe thead th {\n",
       "        text-align: right;\n",
       "    }\n",
       "</style>\n",
       "<table border=\"1\" class=\"dataframe\">\n",
       "  <thead>\n",
       "    <tr style=\"text-align: right;\">\n",
       "      <th></th>\n",
       "      <th>movieId</th>\n",
       "      <th>title</th>\n",
       "      <th>genres</th>\n",
       "    </tr>\n",
       "  </thead>\n",
       "  <tbody>\n",
       "    <tr>\n",
       "      <th>0</th>\n",
       "      <td>1</td>\n",
       "      <td>Toy Story (1995)</td>\n",
       "      <td>Adventure|Animation|Children|Comedy|Fantasy</td>\n",
       "    </tr>\n",
       "    <tr>\n",
       "      <th>1</th>\n",
       "      <td>2</td>\n",
       "      <td>Jumanji (1995)</td>\n",
       "      <td>Adventure|Children|Fantasy</td>\n",
       "    </tr>\n",
       "    <tr>\n",
       "      <th>2</th>\n",
       "      <td>3</td>\n",
       "      <td>Grumpier Old Men (1995)</td>\n",
       "      <td>Comedy|Romance</td>\n",
       "    </tr>\n",
       "    <tr>\n",
       "      <th>3</th>\n",
       "      <td>4</td>\n",
       "      <td>Waiting to Exhale (1995)</td>\n",
       "      <td>Comedy|Drama|Romance</td>\n",
       "    </tr>\n",
       "    <tr>\n",
       "      <th>4</th>\n",
       "      <td>5</td>\n",
       "      <td>Father of the Bride Part II (1995)</td>\n",
       "      <td>Comedy</td>\n",
       "    </tr>\n",
       "  </tbody>\n",
       "</table>\n",
       "</div>"
      ],
      "text/plain": [
       "   movieId                               title  \\\n",
       "0        1                    Toy Story (1995)   \n",
       "1        2                      Jumanji (1995)   \n",
       "2        3             Grumpier Old Men (1995)   \n",
       "3        4            Waiting to Exhale (1995)   \n",
       "4        5  Father of the Bride Part II (1995)   \n",
       "\n",
       "                                        genres  \n",
       "0  Adventure|Animation|Children|Comedy|Fantasy  \n",
       "1                   Adventure|Children|Fantasy  \n",
       "2                               Comedy|Romance  \n",
       "3                         Comedy|Drama|Romance  \n",
       "4                                       Comedy  "
      ]
     },
     "execution_count": 2,
     "metadata": {},
     "output_type": "execute_result"
    }
   ],
   "source": [
    "df_movies.head()"
   ]
  },
  {
   "cell_type": "code",
   "execution_count": 3,
   "metadata": {
    "colab": {
     "base_uri": "https://localhost:8080/",
     "height": 204
    },
    "colab_type": "code",
    "id": "l3uwN4HVfsXj",
    "outputId": "2cfa033a-54f0-4142-fe14-9b487cd6ce41"
   },
   "outputs": [
    {
     "data": {
      "text/html": [
       "<div>\n",
       "<style scoped>\n",
       "    .dataframe tbody tr th:only-of-type {\n",
       "        vertical-align: middle;\n",
       "    }\n",
       "\n",
       "    .dataframe tbody tr th {\n",
       "        vertical-align: top;\n",
       "    }\n",
       "\n",
       "    .dataframe thead th {\n",
       "        text-align: right;\n",
       "    }\n",
       "</style>\n",
       "<table border=\"1\" class=\"dataframe\">\n",
       "  <thead>\n",
       "    <tr style=\"text-align: right;\">\n",
       "      <th></th>\n",
       "      <th>userId</th>\n",
       "      <th>movieId</th>\n",
       "      <th>rating</th>\n",
       "      <th>timestamp</th>\n",
       "    </tr>\n",
       "  </thead>\n",
       "  <tbody>\n",
       "    <tr>\n",
       "      <th>0</th>\n",
       "      <td>1</td>\n",
       "      <td>1</td>\n",
       "      <td>5.0</td>\n",
       "      <td>847117005</td>\n",
       "    </tr>\n",
       "    <tr>\n",
       "      <th>1</th>\n",
       "      <td>1</td>\n",
       "      <td>2</td>\n",
       "      <td>3.0</td>\n",
       "      <td>847642142</td>\n",
       "    </tr>\n",
       "    <tr>\n",
       "      <th>2</th>\n",
       "      <td>1</td>\n",
       "      <td>10</td>\n",
       "      <td>3.0</td>\n",
       "      <td>847641896</td>\n",
       "    </tr>\n",
       "    <tr>\n",
       "      <th>3</th>\n",
       "      <td>1</td>\n",
       "      <td>32</td>\n",
       "      <td>4.0</td>\n",
       "      <td>847642008</td>\n",
       "    </tr>\n",
       "    <tr>\n",
       "      <th>4</th>\n",
       "      <td>1</td>\n",
       "      <td>34</td>\n",
       "      <td>4.0</td>\n",
       "      <td>847641956</td>\n",
       "    </tr>\n",
       "  </tbody>\n",
       "</table>\n",
       "</div>"
      ],
      "text/plain": [
       "   userId  movieId  rating  timestamp\n",
       "0       1        1     5.0  847117005\n",
       "1       1        2     3.0  847642142\n",
       "2       1       10     3.0  847641896\n",
       "3       1       32     4.0  847642008\n",
       "4       1       34     4.0  847641956"
      ]
     },
     "execution_count": 3,
     "metadata": {},
     "output_type": "execute_result"
    }
   ],
   "source": [
    "df_ratings.head()"
   ]
  },
  {
   "cell_type": "markdown",
   "metadata": {
    "colab_type": "text",
    "id": "Jaa59KVx8TzB"
   },
   "source": [
    "Creating necessary dictionaries from the DataFrame objects."
   ]
  },
  {
   "cell_type": "code",
   "execution_count": 4,
   "metadata": {
    "colab": {},
    "colab_type": "code",
    "id": "5oHY7P4Ef0-L"
   },
   "outputs": [],
   "source": [
    "movies = {}\n",
    "for _, row in df_movies.iterrows():\n",
    "  movies[row['movieId']] = row['title']\n",
    "\n",
    "ratings = {}\n",
    "for _, row in df_ratings.iterrows():\n",
    "  if row['userId'] not in ratings:\n",
    "    ratings[row['userId']] = {}\n",
    "  ratings[row['userId']][row['movieId']] = row['rating']"
   ]
  },
  {
   "cell_type": "markdown",
   "metadata": {
    "colab_type": "text",
    "id": "a-V01c4r85GP"
   },
   "source": [
    "## Getting Recommendations by Collaborative Filtering\n",
    "Here, we use **Pearson Correlation** as the similarity measure to find similarity between two users. The idea here is to recommend movies that are rated well by other similar users.\n"
   ]
  },
  {
   "cell_type": "markdown",
   "metadata": {
    "colab_type": "text",
    "id": "ziAojeaUBFR_"
   },
   "source": [
    "We calculate Pearson Correlation using this expression given in Wikipedia:\n",
    "<img src=\"images/pearson_formula.png\">\n",
    "<img src=\"images/pearson_variables.png\">"
   ]
  },
  {
   "cell_type": "code",
   "execution_count": 5,
   "metadata": {
    "colab": {},
    "colab_type": "code",
    "id": "O_n4fxfl4HDQ"
   },
   "outputs": [],
   "source": [
    "from math import sqrt\n",
    "\n",
    "def pearsonCorrelation(ratings, u1, u2):\n",
    "  both_rated = set()# Movies rated by both u1 and u2\n",
    "  \n",
    "  for mov in ratings[u1]:\n",
    "    if mov in ratings[u2]:\n",
    "      both_rated.add(mov)\n",
    "  \n",
    "  n = len(both_rated)\n",
    "  if(n == 0):# If they havn't rated any common movie\n",
    "    return 0\n",
    "  \n",
    "  # Calculating the Means\n",
    "  x_mean = sum([ratings[u1][mov] for mov in both_rated])/n\n",
    "  y_mean = sum([ratings[u2][mov] for mov in both_rated])/n\n",
    "  \n",
    "  xy_sum = sum([ratings[u1][mov]*ratings[u2][mov] for mov in both_rated])\n",
    "  \n",
    "  # Calculating the sum of squares\n",
    "  x_sqsum = sum([pow(ratings[u1][mov], 2) for mov in both_rated])\n",
    "  y_sqsum = sum([pow(ratings[u2][mov], 2) for mov in both_rated])\n",
    "  \n",
    "  numerator = xy_sum - n*x_mean*y_mean\n",
    "  denominator = sqrt(x_sqsum - n*pow(x_mean, 2))*sqrt(y_sqsum - n*pow(y_mean, 2))\n",
    "  \n",
    "  if denominator == 0:# Avoiding Divide by Zero Error\n",
    "    return 0\n",
    "  \n",
    "  corr = numerator/denominator\n",
    "  return corr"
   ]
  },
  {
   "cell_type": "markdown",
   "metadata": {
    "colab_type": "text",
    "id": "jjfF7OV4BghG"
   },
   "source": [
    "Using Pearson correlation scores as weights, we calulate the weighted average of ratings given by other users to get a recommendation score for each movie which we can then sort to find the best recommendations."
   ]
  },
  {
   "cell_type": "code",
   "execution_count": 6,
   "metadata": {
    "colab": {},
    "colab_type": "code",
    "id": "SnQoHNifN2fo"
   },
   "outputs": [],
   "source": [
    "def getRecommendations(ratings, user):\n",
    "  totals = {}# Weighted sum of ratings for each movie by other users\n",
    "  simSums = {}# Sum of similarity scores for each movie\n",
    "  for other_user in ratings:\n",
    "    if other_user == user:# No need to check similarity with oneself\n",
    "      continue\n",
    "    \n",
    "    similarity = pearsonCorrelation(ratings, user, other_user)\n",
    "    if similarity <= 0:# We can ignore if similarity score is negative\n",
    "      continue\n",
    "\n",
    "    for mov in ratings[other_user]:\n",
    "      if mov not in ratings[user]:# Only consider recommending movies that the user hasn't rated yet\n",
    "        if mov not in totals:\n",
    "          totals[mov] = 0\n",
    "        totals[mov] += ratings[other_user][mov]*similarity\n",
    "        \n",
    "        if mov not in simSums:\n",
    "          simSums[mov] = 0\n",
    "        simSums[mov] += similarity\n",
    "  \n",
    "  rankings=[(total/simSums[mov], mov) for mov, total in totals.items( )]\n",
    "  rankings.sort(reverse = True)# Sort in descending order\n",
    "  \n",
    "  return rankings"
   ]
  },
  {
   "cell_type": "markdown",
   "metadata": {
    "colab_type": "text",
    "id": "Cm5atB_bEKIC"
   },
   "source": [
    "## Printing Top 10 Recommendations for a few users"
   ]
  },
  {
   "cell_type": "code",
   "execution_count": 7,
   "metadata": {
    "colab": {},
    "colab_type": "code",
    "id": "Lz6S-0O0Vnl-"
   },
   "outputs": [],
   "source": [
    "def printTopRecommendations(ratings, movies, user, n = 10):\n",
    "  rankings = getRecommendations(ratings, user)\n",
    "  n = min(len(rankings), n)\n",
    "  for score, mov in rankings[:n]:\n",
    "    match = int((score/5)*100)# A Percentage Recommendation Score\n",
    "    print(movies[mov], ' (Match =', match, '%)')"
   ]
  },
  {
   "cell_type": "code",
   "execution_count": 8,
   "metadata": {
    "colab": {
     "base_uri": "https://localhost:8080/",
     "height": 187
    },
    "colab_type": "code",
    "id": "g74BkkPwYIUp",
    "outputId": "8d678b01-e4e9-4791-d4a4-8bf506738ebb"
   },
   "outputs": [
    {
     "name": "stdout",
     "output_type": "stream",
     "text": [
      "Louis C.K.: Live at The Comedy Store (2015)  (Match = 100 %)\n",
      "Comedy Central Roast of Justin Bieber (2015)  (Match = 100 %)\n",
      "Going Clear: Scientology and the Prison of Belief (2015)  (Match = 100 %)\n",
      "Kurt Cobain: Montage of Heck (2015)  (Match = 100 %)\n",
      "The Missing (2014)  (Match = 100 %)\n",
      "Bill Burr: You People Are All the Same (2012)  (Match = 100 %)\n",
      "A Most Violent Year (2014)  (Match = 100 %)\n",
      "Mommy (2014)  (Match = 100 %)\n",
      "Unbroken (2014)  (Match = 100 %)\n",
      "Selma (2014)  (Match = 100 %)\n"
     ]
    }
   ],
   "source": [
    "printTopRecommendations(ratings, movies, 568, 10)"
   ]
  },
  {
   "cell_type": "code",
   "execution_count": 9,
   "metadata": {
    "colab": {
     "base_uri": "https://localhost:8080/",
     "height": 187
    },
    "colab_type": "code",
    "id": "brtBnJcj5JEi",
    "outputId": "b3ac10af-4cdd-4a5e-e5e2-2d8422a9b33e"
   },
   "outputs": [
    {
     "name": "stdout",
     "output_type": "stream",
     "text": [
      "Silent Movie (1976)  (Match = 100 %)\n",
      "Noi the Albino (Nói albinói) (2003)  (Match = 100 %)\n",
      "Some Mother's Son (1996)  (Match = 100 %)\n",
      "Diva (1981)  (Match = 100 %)\n",
      "Great Day in Harlem, A (1994)  (Match = 100 %)\n",
      "Comedy Central Roast of Justin Bieber (2015)  (Match = 100 %)\n",
      "Going Clear: Scientology and the Prison of Belief (2015)  (Match = 100 %)\n",
      "Kurt Cobain: Montage of Heck (2015)  (Match = 100 %)\n",
      "Louis C.K.: Live at The Comedy Store (2015)  (Match = 100 %)\n",
      "The Missing (2014)  (Match = 100 %)\n"
     ]
    }
   ],
   "source": [
    "printTopRecommendations(ratings, movies, 389, 10)"
   ]
  }
 ],
 "metadata": {
  "colab": {
   "collapsed_sections": [],
   "name": "MovieLens_Recommendation.ipynb",
   "provenance": [],
   "version": "0.3.2"
  },
  "kernelspec": {
   "display_name": "Python 3",
   "language": "python",
   "name": "python3"
  },
  "language_info": {
   "codemirror_mode": {
    "name": "ipython",
    "version": 3
   },
   "file_extension": ".py",
   "mimetype": "text/x-python",
   "name": "python",
   "nbconvert_exporter": "python",
   "pygments_lexer": "ipython3",
   "version": "3.7.1"
  }
 },
 "nbformat": 4,
 "nbformat_minor": 1
}
